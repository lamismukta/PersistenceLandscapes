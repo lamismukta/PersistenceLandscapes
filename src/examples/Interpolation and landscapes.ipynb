{
 "cells": [
  {
   "cell_type": "code",
   "execution_count": 9,
   "metadata": {},
   "outputs": [],
   "source": [
    "import time\n",
    "import matplotlib.pyplot as plt\n",
    "import sys\n",
    "sys.path.append('../functions')\n",
    "from barcodes import get_data, interpolate, ripser_barcode\n",
    "from landscapes import persistence_landscape, plot_pl, lp_distance_matrix, linf_distance_matrix\n",
    "sys.path.append('../classes')\n",
    "from protein import Protein"
   ]
  },
  {
   "cell_type": "markdown",
   "metadata": {},
   "source": [
    "Try it out on the proteins!"
   ]
  },
  {
   "cell_type": "code",
   "execution_count": 3,
   "metadata": {},
   "outputs": [],
   "source": [
    "protein = Protein(\"3kzn\", \"A\", \"K\", \"+3.1\")\n",
    "protein.add_data(get_data('3kzn','A'))"
   ]
  },
  {
   "cell_type": "code",
   "execution_count": 4,
   "metadata": {},
   "outputs": [],
   "source": [
    "interpolated_data = {0: protein.data}\n",
    "for i in range(1,5):\n",
    "    itp = interpolate(protein.data, i)\n",
    "    interpolated_data.update({i: itp})"
   ]
  },
  {
   "cell_type": "code",
   "execution_count": 5,
   "metadata": {},
   "outputs": [
    {
     "name": "stdout",
     "output_type": "stream",
     "text": [
      "Rips(maxdim=2, thresh=inf, coeff=2, do_cocycles=False, n_perm = None, verbose=True)\n",
      "Time taken for 0 interpolated points is 5.8125879764556885\n",
      "Rips(maxdim=2, thresh=inf, coeff=2, do_cocycles=False, n_perm = None, verbose=True)\n",
      "Time taken for 1 interpolated points is 24.544743299484253\n",
      "Rips(maxdim=2, thresh=inf, coeff=2, do_cocycles=False, n_perm = None, verbose=True)\n",
      "Time taken for 2 interpolated points is 96.98295998573303\n",
      "Rips(maxdim=2, thresh=inf, coeff=2, do_cocycles=False, n_perm = None, verbose=True)\n",
      "Time taken for 3 interpolated points is 283.0870449542999\n",
      "Rips(maxdim=2, thresh=inf, coeff=2, do_cocycles=False, n_perm = None, verbose=True)\n",
      "Time taken for 4 interpolated points is 2669.39435505867\n"
     ]
    }
   ],
   "source": [
    "interpolated_landscapes = {}\n",
    "time_taken = {}\n",
    "for i, value in interpolated_data.items():\n",
    "    start = time.time()\n",
    "    barcode = ripser_barcode(value)\n",
    "    pl = persistence_landscape(barcode[1])\n",
    "    stop = time.time()\n",
    "    interpolated_landscapes.update({i: pl})\n",
    "    print(\"Time taken for {} interpolated points is {}\".format(i, stop-start))\n",
    "    time_taken.update({i: stop-start})\n"
   ]
  },
  {
   "attachments": {},
   "cell_type": "markdown",
   "metadata": {},
   "source": [
    "Barcode and landscape time computation by number of interpolated points - this increases exponentially"
   ]
  },
  {
   "cell_type": "code",
   "execution_count": 11,
   "metadata": {},
   "outputs": [
    {
     "data": {
      "image/png": "[encoded data removed]",
      "text/plain": [
       "<Figure size 432x288 with 1 Axes>"
      ]
     },
     "metadata": {
      "needs_background": "light"
     },
     "output_type": "display_data"
    }
   ],
   "source": [
    "x_values = list(time_taken.keys())\n",
    "y_values = list(time_taken.values())\n",
    "plt.plot(x_values, y_values)\n",
    "plt.xlabel(\"No. points\")\n",
    "plt.xticks(x_values)\n",
    "plt.ylabel(\"Time (s)\")\n",
    "plt.title(\"Time to compute barcodes and landscapes against number of interpolated points\")\n",
    "plt.show()"
   ]
  },
  {
   "cell_type": "code",
   "execution_count": 6,
   "metadata": {},
   "outputs": [
    {
     "name": "stdout",
     "output_type": "stream",
     "text": [
      "[[0.         0.54649615 0.54649615 0.6285243  0.6783824 ]\n",
      " [0.54649615 0.         0.31272745 0.39172173 0.30030203]\n",
      " [0.54649615 0.31272745 0.         0.16180563 0.21166372]\n",
      " [0.6285243  0.39172173 0.16180563 0.         0.11444378]\n",
      " [0.6783824  0.30030203 0.21166372 0.11444378 0.        ]]\n"
     ]
    }
   ],
   "source": [
    "l_inf_matrix = linf_distance_matrix(list(interpolated_landscapes.values()))\n",
    "print(l_inf_matrix)"
   ]
  },
  {
   "cell_type": "code",
   "execution_count": 7,
   "metadata": {},
   "outputs": [
    {
     "name": "stdout",
     "output_type": "stream",
     "text": [
      "[[0.         2.03643802 2.19341223 2.22685037 2.23331077]\n",
      " [2.03643802 0.         0.54366956 0.72255834 0.79531884]\n",
      " [2.19341223 0.54366956 0.         0.42183742 0.5359264 ]\n",
      " [2.22685037 0.72255834 0.42183742 0.         0.26518497]\n",
      " [2.23331077 0.79531884 0.5359264  0.26518497 0.        ]]\n"
     ]
    }
   ],
   "source": [
    "lp_matrix = lp_distance_matrix(list(interpolated_landscapes.values()), 2)\n",
    "print(lp_matrix)"
   ]
  },
  {
   "attachments": {},
   "cell_type": "markdown",
   "metadata": {},
   "source": [
    "Can see that pairswise distance between lanscapes as number of interpolated points increases decreases most steeply for first few points. "
   ]
  }
 ],
 "metadata": {
  "kernelspec": {
   "display_name": "Python 3",
   "language": "python",
   "name": "python3"
  },
  "language_info": {
   "codemirror_mode": {
    "name": "ipython",
    "version": 3
   },
   "file_extension": ".py",
   "mimetype": "text/x-python",
   "name": "python",
   "nbconvert_exporter": "python",
   "pygments_lexer": "ipython3",
   "version": "3.8.5"
  },
  "vscode": {
   "interpreter": {
    "hash": "971a07ba60d605eb583c9ee036ceda8428dc0d07ce7646aeae4f2747b3b96c0c"
   }
  }
 },
 "nbformat": 4,
 "nbformat_minor": 4
}
