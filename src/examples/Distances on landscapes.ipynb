{
 "cells": [
  {
   "cell_type": "code",
   "execution_count": 7,
   "metadata": {},
   "outputs": [],
   "source": [
    "import sys\n",
    "sys.path.append('../functions')\n",
    "from barcodes import get_data, ripser_barcode\n",
    "from landscapes import persistence_landscape, L_inf, Lp\n",
    "sys.path.append('../classes')\n",
    "from protein import Protein"
   ]
  },
  {
   "attachments": {},
   "cell_type": "markdown",
   "metadata": {},
   "source": [
    "<h3>Non-Redundant Trefoil Knots</h3>"
   ]
  },
  {
   "cell_type": "code",
   "execution_count": 19,
   "metadata": {},
   "outputs": [],
   "source": [
    "protein_3kzn = Protein('3kzn', 'A', 'K', '+3.1')\n",
    "protein_4k1c = Protein('4k1c', 'A', 'K', '+3.1')\n",
    "proteins = [protein_3kzn, protein_4k1c]"
   ]
  },
  {
   "attachments": {},
   "cell_type": "markdown",
   "metadata": {},
   "source": [
    "Fetch the data from knotprot"
   ]
  },
  {
   "cell_type": "code",
   "execution_count": 20,
   "metadata": {},
   "outputs": [],
   "source": [
    "for protein in proteins:\n",
    "    data = get_data(pdbid = protein.pdbid, chain = protein.chain)\n",
    "    protein.add_data(data)"
   ]
  },
  {
   "attachments": {},
   "cell_type": "markdown",
   "metadata": {},
   "source": [
    "Compute barcodes"
   ]
  },
  {
   "cell_type": "code",
   "execution_count": 21,
   "metadata": {},
   "outputs": [
    {
     "name": "stdout",
     "output_type": "stream",
     "text": [
      "Rips(maxdim=2, thresh=inf, coeff=2, do_cocycles=False, n_perm = None, verbose=True)\n",
      "Rips(maxdim=2, thresh=inf, coeff=2, do_cocycles=False, n_perm = None, verbose=True)\n"
     ]
    }
   ],
   "source": [
    "for protein in proteins:\n",
    "    barcode = ripser_barcode(protein.data)\n",
    "    protein.add_barcode(barcode)"
   ]
  },
  {
   "attachments": {},
   "cell_type": "markdown",
   "metadata": {},
   "source": [
    "Compute persistence landscapes"
   ]
  },
  {
   "cell_type": "code",
   "execution_count": 22,
   "metadata": {},
   "outputs": [],
   "source": [
    "# choose a degree\n",
    "h=1\n",
    "for protein in proteins:\n",
    "    pl = persistence_landscape(protein.barcode[h])\n",
    "    protein.add_pl(pl)"
   ]
  },
  {
   "attachments": {},
   "cell_type": "markdown",
   "metadata": {},
   "source": [
    "Compute distances between two landscapes"
   ]
  },
  {
   "cell_type": "code",
   "execution_count": 23,
   "metadata": {},
   "outputs": [
    {
     "name": "stdout",
     "output_type": "stream",
     "text": [
      "L_inf distance between 3kzn and 4k1c is 0.9943475723266602\n"
     ]
    }
   ],
   "source": [
    "inf_distance = L_inf(proteins[0].pl, proteins[1].pl)\n",
    "print('L_inf distance between {} and {} is'.format(proteins[0].pdbid, proteins[1].pdbid), inf_distance)"
   ]
  },
  {
   "cell_type": "code",
   "execution_count": 24,
   "metadata": {},
   "outputs": [
    {
     "name": "stdout",
     "output_type": "stream",
     "text": [
      "L_p distance for p=2 between 3kzn and 4k1c is 4.416236495365133\n"
     ]
    }
   ],
   "source": [
    "p=2\n",
    "lp_distance = Lp(proteins[0].pl, proteins[1].pl, 2)\n",
    "print('L_p distance for p={} between {} and {} is'.format(p, proteins[0].pdbid, proteins[1].pdbid), lp_distance)"
   ]
  },
  {
   "cell_type": "code",
   "execution_count": 25,
   "metadata": {},
   "outputs": [
    {
     "name": "stdout",
     "output_type": "stream",
     "text": [
      "Rips(maxdim=2, thresh=inf, coeff=2, do_cocycles=False, n_perm = None, verbose=True)\n"
     ]
    }
   ],
   "source": [
    "protein_4chj = Protein('4chj', 'A', 'K', '4.1')\n",
    "protein_4chj.add_data(get_data(pdbid = protein_4chj.pdbid, chain = protein_4chj.chain))\n",
    "protein_4chj.add_barcode(ripser_barcode(protein_4chj.data))\n",
    "protein_4chj.add_pl(persistence_landscape(protein.barcode[1]))\n",
    "proteins.append(protein_4chj)\n"
   ]
  },
  {
   "cell_type": "markdown",
   "metadata": {},
   "source": [
    "Prove that these are indeed norms"
   ]
  },
  {
   "cell_type": "code",
   "execution_count": 31,
   "metadata": {},
   "outputs": [],
   "source": [
    "a = proteins[0].pl\n",
    "b = proteins[1].pl\n",
    "c = proteins[2].pl"
   ]
  },
  {
   "cell_type": "code",
   "execution_count": 32,
   "metadata": {},
   "outputs": [
    {
     "name": "stdout",
     "output_type": "stream",
     "text": [
      "True\n",
      "True\n",
      "True\n"
     ]
    }
   ],
   "source": [
    "print(L_inf(b,a) == L_inf(a,b)) # symmetric\n",
    "print(L_inf(a,a) == 0) # reflexive\n",
    "print(L_inf(a,b)+L_inf(b,c)-L_inf(a,c) >= 0) # triangle ineq"
   ]
  },
  {
   "cell_type": "code",
   "execution_count": 34,
   "metadata": {},
   "outputs": [
    {
     "name": "stdout",
     "output_type": "stream",
     "text": [
      "True\n",
      "True\n",
      "True\n"
     ]
    }
   ],
   "source": [
    "print(Lp(b,a,2) == Lp(a,b,2)) # symmetric\n",
    "print(Lp(a,a,2) == 0) # reflexive\n",
    "print(Lp(a,b,2)+Lp(b,c,2)-Lp(a,c,2) >= 0) # triangle ineq"
   ]
  }
 ],
 "metadata": {
  "kernelspec": {
   "display_name": "Python 3",
   "language": "python",
   "name": "python3"
  },
  "language_info": {
   "codemirror_mode": {
    "name": "ipython",
    "version": 3
   },
   "file_extension": ".py",
   "mimetype": "text/x-python",
   "name": "python",
   "nbconvert_exporter": "python",
   "pygments_lexer": "ipython3",
   "version": "3.8.5"
  },
  "vscode": {
   "interpreter": {
    "hash": "971a07ba60d605eb583c9ee036ceda8428dc0d07ce7646aeae4f2747b3b96c0c"
   }
  }
 },
 "nbformat": 4,
 "nbformat_minor": 4
}
