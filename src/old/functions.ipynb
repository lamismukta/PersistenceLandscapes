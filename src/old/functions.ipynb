{
 "cells": [
  {
   "cell_type": "code",
   "execution_count": 2,
   "metadata": {},
   "outputs": [],
   "source": [
    "import numpy as np\n",
    "from ripser import Rips\n",
    "import gudhi as gd\n",
    "import urllib\n",
    "from matplotlib import pyplot as plt\n",
    "import math \n",
    "from scipy.interpolate import interp1d"
   ]
  },
  {
   "cell_type": "markdown",
   "metadata": {},
   "source": [
    "Get point cloud for a protein "
   ]
  },
  {
   "cell_type": "code",
   "execution_count": 3,
   "metadata": {},
   "outputs": [],
   "source": [
    "def get_data(pdbid,chain):\n",
    "    url = 'https://knotprot.cent.uw.edu.pl/chains/{pdbid}/{chain}/chain.xyz.txt'\n",
    "    link = url.format(pdbid = pdbid,chain = chain)\n",
    "    file = urllib.request.urlopen(link)\n",
    "    g = np.genfromtxt(file, delimiter = '')\n",
    "    data = g[0:,1:]\n",
    "    return data"
   ]
  },
  {
   "cell_type": "markdown",
   "metadata": {},
   "source": [
    "Plot ph diagram for a protein with ripser"
   ]
  },
  {
   "cell_type": "code",
   "execution_count": 4,
   "metadata": {},
   "outputs": [],
   "source": [
    "def rips_pd(pdbid,chain):\n",
    "    url = 'https://knotprot.cent.uw.edu.pl/chains/{pdbid}/{chain}/chain.xyz.txt'\n",
    "    link = url.format(pdbid = pdbid,chain = chain)\n",
    "    file = urllib.request.urlopen(link)\n",
    "    g = np.genfromtxt(file, delimiter = '')\n",
    "    data = g[0:,1:]\n",
    "    rips = Rips(maxdim=2)\n",
    "    diagrams = rips.fit_transform(data)\n",
    "    plot = rips.plot(diagrams, title = 'Persistence Diagram for {pdbid}_{chain}'.format(pdbid=pdbid,chain=chain))\n",
    "    return plot"
   ]
  },
  {
   "cell_type": "markdown",
   "metadata": {},
   "source": [
    "Making a list of proteins and their point clouds from a large file living in the domain of this notebook "
   ]
  },
  {
   "cell_type": "code",
   "execution_count": 5,
   "metadata": {},
   "outputs": [],
   "source": [
    "def get_list(file_name): #not sure i like this anymore\n",
    "    f = open(file_name)\n",
    "    big_data = []\n",
    "    with open(file_name, \"r\") as f:\n",
    "        rows = f.readlines()[1:]\n",
    "    for row in rows:\n",
    "        big_data.append(row.split(';'))\n",
    "    for item in big_data:\n",
    "        url = 'https://knotprot.cent.uw.edu.pl/chains/{pdbid}/{chain}/chain.xyz.txt'\n",
    "        link = url.format(pdbid = item[0],chain = item[1])\n",
    "        file = urllib.request.urlopen(link)\n",
    "        g = np.genfromtxt(file, delimiter = '')\n",
    "        data = g[0:,1:]\n",
    "        item.append(data)\n",
    "    return big_data"
   ]
  },
  {
   "cell_type": "markdown",
   "metadata": {},
   "source": [
    "Interpolating k points in a point cloud"
   ]
  },
  {
   "cell_type": "code",
   "execution_count": 6,
   "metadata": {},
   "outputs": [],
   "source": [
    "def interp(data,k):\n",
    "    l = len(data)\n",
    "    v = np.empty((l+(l-1)*k,3))\n",
    "    for j in range(0,k+1):\n",
    "        for i in range(0,l-1):\n",
    "            v[(k+1)*i+j] = data[i] + (j/(k+1))*(data[i+1]-data[i])\n",
    "    v[(k+1)*(l-1)]=data[l-1]\n",
    "    return v"
   ]
  },
  {
   "cell_type": "markdown",
   "metadata": {},
   "source": [
    "Gudhi barcode from point cloud"
   ]
  },
  {
   "cell_type": "code",
   "execution_count": 7,
   "metadata": {},
   "outputs": [],
   "source": [
    "def gd_barcode(data, max_edge_length=15):\n",
    "    skeleton = gd.RipsComplex(data, max_edge_length=max_edge_length)\n",
    "    Rips_simplex_tree = skeleton.create_simplex_tree(max_dimension = 3)\n",
    "    BarCodes_Rips = Rips_simplex_tree.persistence()\n",
    "    return BarCodes_Rips"
   ]
  },
  {
   "cell_type": "markdown",
   "metadata": {},
   "source": [
    "Bottleneck from barcodes"
   ]
  },
  {
   "cell_type": "code",
   "execution_count": 8,
   "metadata": {},
   "outputs": [],
   "source": [
    "def bn(barcode_1, barcode_2):\n",
    "    diag1 = [item[1] for item in barcode_1]\n",
    "    diag2 = [item[1] for item in barcode_2]\n",
    "    d = gd.bottleneck_distance(diag1, diag2)\n",
    "    return d"
   ]
  },
  {
   "cell_type": "markdown",
   "metadata": {},
   "source": [
    "My bottleneck (separating classes)"
   ]
  },
  {
   "cell_type": "code",
   "execution_count": 9,
   "metadata": {},
   "outputs": [],
   "source": [
    "def my_bn(barcode_1,barcode_2):\n",
    "    diag1_0 = [item[1] for item in barcode_1 if item[0]==0]\n",
    "    diag2_0 = [item[1] for item in barcode_2 if item[0]==0]\n",
    "    diag1_1 = [item[1] for item in barcode_1 if item[0]==1]\n",
    "    diag2_1 = [item[1] for item in barcode_2 if item[0]==1]\n",
    "    diag1_2 = [item[1] for item in barcode_1 if item[0]==2]\n",
    "    diag2_2 = [item[1] for item in barcode_2 if item[0]==2]\n",
    "    d0 = gd.bottleneck_distance(diag1_0, diag2_0)\n",
    "    d1 = gd.bottleneck_distance(diag1_1, diag2_1)\n",
    "    d2 = gd.bottleneck_distance(diag1_2, diag2_2)\n",
    "    d = max(d0,d1,d2)\n",
    "    return d"
   ]
  },
  {
   "cell_type": "code",
   "execution_count": 26,
   "metadata": {},
   "outputs": [],
   "source": [
    "def pl_sort(A):\n",
    "    A = [(x[0],x[1]) for x in A]\n",
    "    A.sort()\n",
    "    a=np.array(A)\n",
    "    sep = np.split(a, np.where(np.diff(a[:,0]))[0]+1)\n",
    "    flip = [np.flip(x, axis=0) for x in sep]\n",
    "    S = np.concatenate(flip)\n",
    "    lst = [(x[0],x[1]) for x in S]\n",
    "    return lst"
   ]
  },
  {
   "cell_type": "code",
   "execution_count": 11,
   "metadata": {},
   "outputs": [],
   "source": [
    "def pl(barcode): #input: a list of 2-tuples. be careful if np array!\n",
    "    a = pl_sort(barcode)\n",
    "    PL=[]\n",
    "    while len(a)>0:\n",
    "        p=0\n",
    "        (b,d) = a.pop(0)\n",
    "        L = []\n",
    "        L.extend([(-np.inf,0),(b,0),((b+d)/2,(d-b)/2)])\n",
    "        while L[-1] != (np.inf,0):\n",
    "            ds = [x[1] for x in a[p:]]\n",
    "            if len(ds)==0:\n",
    "                L.extend([(d,0),(np.inf,0)])\n",
    "            elif d >= max(ds):\n",
    "                L.extend([(d,0),(np.inf,0)])\n",
    "            else:\n",
    "                for j in range(p,len(a)):\n",
    "                    if a[j][1]>d:\n",
    "                        (B,D) = a[j]\n",
    "                        break\n",
    "                    else:\n",
    "                        continue \n",
    "                J = a.index((B,D)) \n",
    "                a.pop(J)\n",
    "                p = J  \n",
    "                if B>d:\n",
    "                    L.append((d,0))\n",
    "                if B>=d:\n",
    "                    L.append((B,0))\n",
    "                else:\n",
    "                    L.append(((B+d)/2,(d-B)/2))\n",
    "                    a.append((B,d))\n",
    "                    a = pl_sort(a)\n",
    "                    p = a.index((B,d)) +1 #unsure whether this index is right \n",
    "                L.append(((B+D)/2,(D-B)/2))\n",
    "                (b,d) = (B,D)\n",
    "        PL.append(L)\n",
    "    return PL"
   ]
  },
  {
   "cell_type": "code",
   "execution_count": 6,
   "metadata": {},
   "outputs": [],
   "source": [
    "def pl_plot(pl, xl = 2, xu = 12, yl = 0, yu = 4):\n",
    "    for item in pl:\n",
    "        x = [i[0] for i in item]\n",
    "        y = [i[1] for i in item]\n",
    "        plt.scatter(x,y,s=1)\n",
    "        plt.plot(x,y)\n",
    "        plt.xlim(xl,xu)\n",
    "        plt.ylim(yl,yu)\n",
    "        plt.gca().set_aspect('equal', adjustable='box')\n",
    "    plt.show()"
   ]
  },
  {
   "cell_type": "code",
   "execution_count": 13,
   "metadata": {},
   "outputs": [],
   "source": [
    "def make_X(a,b): #make list of all x coords in each PL degree for two lists of PL diagrams, without repetition \n",
    "    x_a = [[i[0] for i in item[1:-1]] for item in a] #remove inf for sorting but add back later\n",
    "    x_b = [[i[0] for i in item[1:-1]] for item in b]\n",
    "    n = min(len(a),len(b))\n",
    "    X = [x+y for x,y in zip(x_a[:n],x_b[:n])]\n",
    "    if len(a)>len(b):\n",
    "        X.extend(x_a[n:])\n",
    "    else:\n",
    "        X.extend(x_b[n:])\n",
    "    X = [sorted(list(set(x))) for x in X]\n",
    "    for i in range(len(X)):\n",
    "        X[i].insert(0,-math.inf) #add inf and -inf back \n",
    "        X[i].append(math.inf)\n",
    "    return X"
   ]
  },
  {
   "cell_type": "code",
   "execution_count": 43,
   "metadata": {},
   "outputs": [],
   "source": [
    "def avg_2pl(pl1,pl2): #take as input 2 persistence landscapes\n",
    "    a=pl1\n",
    "    b=pl2\n",
    "    X = make_X(a,b)\n",
    "    n = min(len(a),len(b))\n",
    "    N = max(len(a),len(b))\n",
    "    \n",
    "    x = [[k[0] for k in item] for item in a] #turn the persistence landscape a into an interpolated function\n",
    "    y = [[k[1] for k in item] for item in a]\n",
    "    L_a = []\n",
    "    for i in range(len(a)):\n",
    "        l = interp1d(x[i],y[i],kind = 'linear')\n",
    "        L_a.append(l)\n",
    "    \n",
    "    x = [[k[0] for k in item] for item in b] #turn the persistence landscape b into an interpolated function\n",
    "    y = [[k[1] for k in item] for item in b]\n",
    "    L_b = []\n",
    "    for i in range(len(b)):\n",
    "        l = interp1d(x[i],y[i],kind = 'linear')\n",
    "        L_b.append(l)\n",
    "    \n",
    "    Y_a = [] #values a takes on all of X- needed the interpolated functions to find these\n",
    "    for i in range(len(a)):\n",
    "        y = [L_a[i](x) for x in X[i]]\n",
    "        Y_a.append(y)\n",
    "    if len(a)<len(b):\n",
    "        for i in range(n,N):\n",
    "            Y_a.append([0 for x in X[i]])\n",
    "\n",
    "    Y_b = [] #values b takes on all of X\n",
    "    for i in range(len(b)):\n",
    "        y = [L_b[i](x) for x in X[i]]\n",
    "        Y_b.append(y)\n",
    "    if len(b)<len(a):\n",
    "        for i in range(n,N):\n",
    "            Y_b.append([0 for x in X[i]])\n",
    "        \n",
    "    X = [np.array(x) for x in X] #average them - note we only go up to the highest k that they both have pls for\n",
    "    Y_a = [np.reshape(item,len(item)) for item in Y_a] #reshape into numpy arrays \n",
    "    Y_b = [np.reshape(item,len(item)) for item in Y_b]\n",
    "    Y_avg = [np.mean([Y_a[i],Y_b[i]], axis = 0) for i in range(N)] #these are just the Y coords, need to get it back into a pl \n",
    "    \n",
    "    avg_pl = []\n",
    "    for i in range(N):\n",
    "        pair = list(zip(X[i],Y_avg[i]))\n",
    "        avg_pl.append(pair)\n",
    "    \n",
    "    return avg_pl   "
   ]
  },
  {
   "cell_type": "code",
   "execution_count": 15,
   "metadata": {},
   "outputs": [],
   "source": [
    "def avg_pl(lst_pl): #input a list of persistence landscapes\n",
    "    old_l = lst_pl\n",
    "    while len(old_l)>1:\n",
    "        n = len(old_l)\n",
    "        new_l = []\n",
    "        if n % 2 == 0:\n",
    "            for i in range(int(n/2)):\n",
    "                new_l.append(avg_2pl(old_l[2*i],old_l[2*i+1]))\n",
    "        else:\n",
    "            for i in range(int((n-1)/2)):\n",
    "                new_l.append(avg_2pl(old_l[2*i],old_l[2*i+1]))\n",
    "            new_l.insert(int((n-1)/2),old_l[-1])\n",
    "        old_l = new_l\n",
    "    return old_l[0]    "
   ]
  },
  {
   "cell_type": "code",
   "execution_count": 16,
   "metadata": {},
   "outputs": [],
   "source": [
    "def pl2func(pl):\n",
    "    x = [[k[0] for k in item] for item in pl] #turn the persistence landscape a into an interpolated function\n",
    "    y = [[k[1] for k in item] for item in pl]\n",
    "    L = []\n",
    "    for i in range(len(pl)):\n",
    "        l = interp1d(x[i],y[i],kind = 'linear')\n",
    "        L.append(l)\n",
    "    return L"
   ]
  },
  {
   "cell_type": "code",
   "execution_count": 17,
   "metadata": {},
   "outputs": [],
   "source": [
    "def pw_int_pl(pl,k): #integrates kth func in the persistence landscape\n",
    "    x_vals = [[i[0] for i in item] for item in pl]\n",
    "    L_a = pl2func(pl)\n",
    "    result = 0\n",
    "    for i in range(len(x_vals[k])-1):\n",
    "        (x,y) = (x_vals[k][i],x_vals[k][i+1])\n",
    "        integr = integrate.quad(lambda x: L_a[k](x),x,y)[0]\n",
    "        result += integr\n",
    "    return result"
   ]
  },
  {
   "cell_type": "code",
   "execution_count": 24,
   "metadata": {},
   "outputs": [],
   "source": [
    "def tp_int_pl(pl,k): #integrates kth func in the persistence landscape\n",
    "    x_vals = [[i[0] for i in item][1:-1] for item in pl] #get rid of infinities\n",
    "    L_a = pl2func(pl)\n",
    "    result = 0\n",
    "    for i in range(len(x_vals[k])-1): #need to get rid of the infinities\n",
    "        (x,y) = (x_vals[k][i],x_vals[k][i+1])\n",
    "        trap = (y-x)*(L_a[k]((1/2)*(y+x)))\n",
    "        result += trap\n",
    "    return result"
   ]
  },
  {
   "cell_type": "code",
   "execution_count": 18,
   "metadata": {},
   "outputs": [],
   "source": [
    "def add_pl(pl1,pl2): #only adds in the dimensions that both have persistence landscapes\n",
    "        a=pl1\n",
    "        b=pl2\n",
    "        X = make_X(a,b)\n",
    "        L_a = pl2func(a)\n",
    "        L_b = pl2func(b)\n",
    "\n",
    "        Y_a = [] #values a takes on all of X- needed the interpolated functions to find these\n",
    "        for i in range(len(a)):\n",
    "            y = [L_a[i](x) for x in X[i]]\n",
    "            Y_a.append(y)\n",
    "\n",
    "        Y_b = [] #values b takes on all of X\n",
    "        for i in range(len(b)):\n",
    "            y = [L_b[i](x) for x in X[i]]\n",
    "            Y_b.append(y)\n",
    "\n",
    "        X = [np.array(x) for x in X] #average them - note we only go up to the highest k that they both have pls for\n",
    "        Y_a = [np.reshape(item,len(item)) for item in Y_a] #reshape into numpy arrays \n",
    "        Y_b = [np.reshape(item,len(item)) for item in Y_b]\n",
    "        n = min(len(a), len(b)) #only average over degrees they have in common \n",
    "        Y_ab = [np.add(Y_a[i],Y_b[i]) for i in range(n)] #these are just the Y coords, need to get it back into a pl \n",
    "\n",
    "        sm = []\n",
    "        for i in range(n):\n",
    "            pair = list(zip(X[i],Y_ab[i]))\n",
    "            sm.append(pair)\n",
    "        \n",
    "        return sm   "
   ]
  },
  {
   "cell_type": "code",
   "execution_count": 19,
   "metadata": {},
   "outputs": [],
   "source": [
    "def n_avg(lst_pl):\n",
    "    sm = lst_pl[0]\n",
    "    for i in range(len(lst_pl)-1):\n",
    "        sm = add_pl(sm,lst_pl[i+1])\n",
    "    n = len(lst_pl)\n",
    "    avg = [[(i[0],i[1]/n) for i in item] for item in sm]\n",
    "    return avg"
   ]
  },
  {
   "cell_type": "code",
   "execution_count": 22,
   "metadata": {},
   "outputs": [],
   "source": [
    "def L_inf(p1,p2): #given two persistence landscapes returns a distance\n",
    "    a = p1\n",
    "    b = p2\n",
    "    n = min(len(a),len(b))\n",
    "\n",
    "    X = make_X(a,b) #make list of points X union of x coords of critical pts in both \n",
    "    \n",
    "    L_a = pl2func(a)\n",
    "    L_b = pl2func(b)\n",
    "        \n",
    "    Y_a = [] #Y values a takes on all of X, but only up to min length \n",
    "    for i in range(n):\n",
    "        y = [L_a[i](x) for x in X[i]]\n",
    "        Y_a.append(y)\n",
    "\n",
    "    Y_b = [] #values b takes on all of X, but only up to min length \n",
    "    for i in range(n):\n",
    "        y = [L_b[i](x) for x in X[i]]\n",
    "        Y_b.append(y)\n",
    "        \n",
    "    X = [np.array(x) for x in X]\n",
    "    Y_a = [np.reshape(item,len(item)) for item in Y_a]\n",
    "    Y_b = [np.reshape(item,len(item)) for item in Y_b]\n",
    "    \n",
    "    Y_diff = [item1-item2 for item1,item2 in zip(Y_a,Y_b)] #this is a list of lists of scalars, their difference function NOT NECC A PL \n",
    "    norms = [[np.abs(i) for i in item] for item in Y_diff] \n",
    "    distance = max([max(i) for i in norms])\n",
    "    return distance"
   ]
  },
  {
   "cell_type": "code",
   "execution_count": 25,
   "metadata": {},
   "outputs": [],
   "source": [
    "def Lp(pl1,pl2,p):\n",
    "    a=pl1\n",
    "    b=pl2\n",
    "    n = min(len(a),len(b))\n",
    "    X = make_X(a,b)\n",
    "    L_a = pl2func(a)\n",
    "    L_b = pl2func(b)\n",
    "    \n",
    "    Y_a = [] #Y values a takes on all of X\n",
    "    for i in range(len(a)):\n",
    "        y = [L_a[i](x) for x in X[i]]\n",
    "        Y_a.append(y)\n",
    "\n",
    "    Y_b = [] #values b takes on all of X\n",
    "    for i in range(len(b)):\n",
    "        y = [L_b[i](x) for x in X[i]]\n",
    "        Y_b.append(y)\n",
    "        \n",
    "    X = [np.array(x) for x in X]\n",
    "    Y_a = [np.reshape(item,len(item)) for item in Y_a]\n",
    "    Y_b = [np.reshape(item,len(item)) for item in Y_b]\n",
    "    Y_diff_abs = [np.absolute(item1-item2)**p for item1,item2 in zip(Y_a,Y_b)]\n",
    "    diff_pl = [] #this is our new pl\n",
    "    for i in range(n):\n",
    "        pair = list(zip(X[i],Y_diff_abs[i]))\n",
    "        diff_pl.append(pair)\n",
    "    diff_func = pl2func(diff_pl) #turn it into a function (actually it is a list of functions) dont need this yet\n",
    "    \n",
    "    sum_int = 0\n",
    "    for i in range(len(diff_pl)):\n",
    "        j = tp_int_pl(diff_pl,i) #use my piecewise trapezium integration function\n",
    "        sum_int += j\n",
    "        \n",
    "    final = (sum_int)**(1/p)\n",
    "    return final   "
   ]
  },
  {
   "cell_type": "code",
   "execution_count": 30,
   "metadata": {},
   "outputs": [],
   "source": [
    "def dm_lp(pls,p):  \n",
    "    all_distances = np.zeros((len(pls), len(pls)))\n",
    "    for i in range(0, len(pls)):\n",
    "        for j in range(i, len(pls)):\n",
    "            all_distances[i,j] = Lp(pls[i], pls[j],p) \n",
    "    for i in range(0, len(pls)):\n",
    "        for j in range(0, i):\n",
    "            all_distances[i,j] = all_distances[j,i]\n",
    "    return(all_distances)"
   ]
  },
  {
   "cell_type": "code",
   "execution_count": 31,
   "metadata": {},
   "outputs": [],
   "source": [
    "def dm_linf(pls):    \n",
    "    all_distances = np.zeros((len(pls), len(pls)))\n",
    "    for i in range(0, len(pls)):\n",
    "        for j in range(i, len(pls)):\n",
    "            all_distances[i,j] = L_inf(pls[i], pls[j]) \n",
    "    for i in range(0, len(pls)):\n",
    "        for j in range(0, i):\n",
    "            all_distances[i,j] = all_distances[j,i]\n",
    "    return(all_distances)"
   ]
  }
 ],
 "metadata": {
  "kernelspec": {
   "display_name": "Python 3",
   "language": "python",
   "name": "python3"
  },
  "language_info": {
   "codemirror_mode": {
    "name": "ipython",
    "version": 3
   },
   "file_extension": ".py",
   "mimetype": "text/x-python",
   "name": "python",
   "nbconvert_exporter": "python",
   "pygments_lexer": "ipython3",
   "version": "3.8.5 (default, Sep  4 2020, 02:22:02) \n[Clang 10.0.0 ]"
  },
  "vscode": {
   "interpreter": {
    "hash": "971a07ba60d605eb583c9ee036ceda8428dc0d07ce7646aeae4f2747b3b96c0c"
   }
  }
 },
 "nbformat": 4,
 "nbformat_minor": 4
}
